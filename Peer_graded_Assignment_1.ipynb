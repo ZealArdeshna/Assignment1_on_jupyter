{
 "cells": [
  {
   "cell_type": "markdown",
   "id": "d0a1a393-9411-469c-992d-90de8d2396da",
   "metadata": {},
   "source": [
    "<h1>My Jupyter Notebook on IBM Watson Studio</h1>"
   ]
  },
  {
   "cell_type": "markdown",
   "id": "170a56b4-6ed0-4b1a-b5d2-19894f5a7aa8",
   "metadata": {},
   "source": [
    "<strong>Zeal Ardeshna</strong>\n",
    "<br>\n",
    "Data Scientist"
   ]
  },
  {
   "cell_type": "markdown",
   "id": "d4a7fa1b-249d-4f61-945d-8747488114ad",
   "metadata": {},
   "source": [
    "<em>I am interested in data science because I like to work with large data as metadata(data about data). I worked with many languages such as C, java, C++, python, etc. But at last i like python because of less coding lines and easy to work with data. And is python is easy to implement in data science that's why selected this field to make my career bright. </em>"
   ]
  },
  {
   "cell_type": "markdown",
   "id": "876b348a-bd72-4de6-b763-6a0d24643df6",
   "metadata": {},
   "source": [
    "<h3>Here we look how we can use jupyter nootbook to run our code.<br>Let just Calculate a simple number of 2+2 =4</h3>"
   ]
  },
  {
   "cell_type": "code",
   "execution_count": 1,
   "id": "1ba7a0bd-4882-41f1-b9c3-ccdfb27e886c",
   "metadata": {},
   "outputs": [
    {
     "data": {
      "text/plain": [
       "4"
      ]
     },
     "execution_count": 1,
     "metadata": {},
     "output_type": "execute_result"
    }
   ],
   "source": [
    "2+2"
   ]
  },
  {
   "cell_type": "markdown",
   "id": "3cd2e76b-2a02-492e-8c13-4568d4309c40",
   "metadata": {},
   "source": [
    "<a href=\"https://dataplatform.cloud.ibm.com/gallery\">IBM Cloud Gallery</a>"
   ]
  },
  {
   "cell_type": "markdown",
   "id": "c971f681-a539-4d13-bd2f-8e45c7678643",
   "metadata": {},
   "source": [
    "| header | header |\n",
    "| ------ | ------ |\n",
    "| cell | cell |"
   ]
  },
  {
   "cell_type": "markdown",
   "id": "32b49be6-2a60-447f-9580-1b8dd7f9aaf3",
   "metadata": {},
   "source": [
    "> #### My favorite Color\n",
    ">\n",
    "> - Blue\n",
    "> - Green\n",
    "> - White\n",
    ">\n",
    ">  *Everything* is going according to **plan**."
   ]
  },
  {
   "cell_type": "code",
   "execution_count": null,
   "id": "a4373624-0df3-4134-8ad2-6a3bf0573c3c",
   "metadata": {},
   "outputs": [],
   "source": []
  }
 ],
 "metadata": {
  "kernelspec": {
   "display_name": "Python",
   "language": "python",
   "name": "conda-env-python-py"
  },
  "language_info": {
   "codemirror_mode": {
    "name": "ipython",
    "version": 3
   },
   "file_extension": ".py",
   "mimetype": "text/x-python",
   "name": "python",
   "nbconvert_exporter": "python",
   "pygments_lexer": "ipython3",
   "version": "3.7.12"
  }
 },
 "nbformat": 4,
 "nbformat_minor": 5
}
